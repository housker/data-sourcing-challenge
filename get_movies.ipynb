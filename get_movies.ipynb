{
 "cells": [
  {
   "cell_type": "code",
   "execution_count": 7,
   "metadata": {},
   "outputs": [],
   "source": [
    "# Dependencies\n",
    "import requests\n",
    "from requests.exceptions import HTTPError\n",
    "import time\n",
    "from dotenv import load_dotenv\n",
    "import os\n",
    "import pandas as pd\n",
    "import json\n",
    "import urllib.parse"
   ]
  },
  {
   "cell_type": "code",
   "execution_count": 8,
   "metadata": {},
   "outputs": [],
   "source": [
    "# Set environment variables from the .env in the local environment\n",
    "load_dotenv()\n",
    "\n",
    "nyt_api_key = os.getenv(\"NYT_API_KEY\")\n",
    "tmdb_api_key = os.getenv(\"TMDB_API_KEY\")"
   ]
  },
  {
   "cell_type": "code",
   "execution_count": 10,
   "metadata": {},
   "outputs": [
    {
     "name": "stdout",
     "output_type": "stream",
     "text": [
      "200\n"
     ]
    },
    {
     "data": {
      "text/plain": [
       "['The Attachment Diaries',\n",
       " 'What’s Love Got to Do With It?’ Probably a Lo',\n",
       " 'You Can Live Forever',\n",
       " 'A Tourist’s Guide to Love',\n",
       " 'Other People’s Children',\n",
       " 'One True Loves',\n",
       " 'The Lost Weekend: A Love Story',\n",
       " 'A Thousand and One',\n",
       " 'Your Place or Mine',\n",
       " 'Love in the Time of Fentanyl',\n",
       " 'Pamela, a Love Story',\n",
       " 'In From the Side',\n",
       " 'After Love',\n",
       " 'Alcarràs',\n",
       " 'Nelly & Nadine',\n",
       " 'Lady Chatterley’s Lover',\n",
       " 'The Sound of Christmas',\n",
       " 'The Inspection',\n",
       " 'Bones and All',\n",
       " 'My Policeman',\n",
       " 'About Fate',\n",
       " 'Waiting for Bojangles',\n",
       " 'I Love My Dad',\n",
       " 'A Love Song',\n",
       " 'Alone Together',\n",
       " 'Art of Love',\n",
       " 'The Wheel',\n",
       " 'Thor: Love and Thunder',\n",
       " 'Both Sides of the Blade',\n",
       " 'Fire of Love',\n",
       " 'Love & Gelato',\n",
       " 'Stay Prayed Up',\n",
       " 'Benediction',\n",
       " 'Dinner in America',\n",
       " 'In a New York Minute',\n",
       " 'Anaïs in Love',\n",
       " 'I Love America',\n",
       " 'See You Then',\n",
       " 'La Mami',\n",
       " 'Love After Love',\n",
       " 'Deep Water',\n",
       " 'Lucy and Desi',\n",
       " 'Cyrano',\n",
       " 'The In Between',\n",
       " 'Book of Love',\n",
       " 'Lingui, the Sacred Bonds',\n",
       " 'The Pink Cloud',\n",
       " 'A Journal for Jordan',\n",
       " 'West Side Story',\n",
       " 'Aulcie',\n",
       " 'Love Is Love Is Love',\n",
       " 'Love Hard',\n",
       " 'Bergman Island',\n",
       " 'Hard Luck Love Song',\n",
       " 'South of Heaven',\n",
       " 'Wife of a Spy',\n",
       " 'Happier Than Ever',\n",
       " 'Together',\n",
       " 'Annette',\n",
       " 'Resort to Love',\n",
       " 'Woodstock 99: Peace, Love and Rage',\n",
       " 'Casanova, Last Love',\n",
       " 'Running Against the Wind',\n",
       " 'Asia',\n",
       " 'Undine',\n",
       " 'This Town',\n",
       " 'Tu Me Manques',\n",
       " 'Monday',\n",
       " 'Ride or Die',\n",
       " 'Future People',\n",
       " 'Luz',\n",
       " 'Happily',\n",
       " 'This Is the Life',\n",
       " 'To All the Boys: Always and Forever',\n",
       " 'Young Hearts',\n",
       " 'Little Fish',\n",
       " 'Two of Us',\n",
       " 'Atlantis',\n",
       " 'Preparations to Be Together',\n",
       " 'Your Name Engraved Herein',\n",
       " 'Sylvie’s Love',\n",
       " 'Ariana Grande: Excuse Me, I Love You',\n",
       " 'Museum Town',\n",
       " 'Wild Mountain Thyme',\n",
       " 'My Psychedelic Love Story',\n",
       " '69: The Saga of Danny Hernandez',\n",
       " 'Ammonite',\n",
       " 'Love and Monsters',\n",
       " 'Dick Johnson Is Dead',\n",
       " 'Love, Guaranteed',\n",
       " 'Feel the Beat',\n",
       " 'Babyteeth',\n",
       " 'Spelling the Dream',\n",
       " 'A Secret Love',\n",
       " 'Love Wedding Repeat',\n",
       " 'Almost Love',\n",
       " 'Hope Gap',\n",
       " 'All the Bright Places',\n",
       " 'The Photograph',\n",
       " 'You Go to My Head',\n",
       " 'Ordinary Love',\n",
       " 'To All the Boys: P.S. I Still Love You',\n",
       " 'The Woman Who Loves Giraffes',\n",
       " 'Queen & Slim',\n",
       " 'Marriage Story',\n",
       " 'Cyrano, My Love',\n",
       " 'Pretenders',\n",
       " 'First Love',\n",
       " 'Loro',\n",
       " 'Falling Inn Love',\n",
       " 'Hot Air',\n",
       " 'Love, Antosha',\n",
       " 'Leto',\n",
       " 'The Tomorrow Man',\n",
       " 'Asako I & II',\n",
       " 'The Sun Is Also a Star',\n",
       " 'Shéhérazade',\n",
       " 'Long Shot',\n",
       " 'Clara',\n",
       " 'Kalank',\n",
       " 'Rafiki',\n",
       " 'Diane',\n",
       " 'Five Feet Apart',\n",
       " 'Ash Is Purest White',\n",
       " 'Gloria Bell',\n",
       " 'Black Mother',\n",
       " 'The Hole in the Ground',\n",
       " 'How to Train Your Dragon: The Hidden World',\n",
       " 'A Tuba to Cuba',\n",
       " 'Fighting With My Family',\n",
       " 'Sorry Angel',\n",
       " 'Berlin, I Love You',\n",
       " 'Untogether',\n",
       " 'Cold War',\n",
       " 'If Beale Street Could Talk',\n",
       " 'Asher',\n",
       " 'The Party’s Just Beginning',\n",
       " 'The Great Pretender',\n",
       " 'Sicilian Ghost Story',\n",
       " 'The New Romantic',\n",
       " 'Pimp',\n",
       " 'In a Relationship',\n",
       " 'They’ll Love Me When I’m Dead’ Documents Orson Welles’s Last Fil',\n",
       " 'Burning,’ Love Ignites a Divided Worl',\n",
       " 'After Everything,’ a Young Love Blooms in Crisi',\n",
       " 'Quincy’ Captures a Lifelong Love Affair With Musi',\n",
       " 'Love, Gilda,’ a Portrait of a Brief and Brilliant Caree',\n",
       " 'Tea With the Dames,’ Four Legends Dish on Acting and Lov',\n",
       " 'Bel Canto,’ Music Is the Food of Love and Rebellio',\n",
       " 'The Citizen,’ an Immigrant Picks a Bad Time to Fall in Lov',\n",
       " 'Love, Cecil,’ an Aesthete Ahead of His Tim',\n",
       " 'How to Talk to Girls at Parties',\n",
       " 'Rogers Park,’ Life and Love in a Chicago Neighborhoo',\n",
       " 'Love & Bananas,’ Uncovering the Plight of the Asian Elephan',\n",
       " 'Godard Mon Amour',\n",
       " 'Submergence,’ a Love Story Sunk by Geopolitic',\n",
       " 'Love After Love,’ an Unflinching Look at Extended Grie',\n",
       " 'Outside In',\n",
       " 'Love, Simon,’ a Glossy Teen Romance, the Hero Has a Secre',\n",
       " 'Keep the Change,’ Two People With Autism Find Lov',\n",
       " 'The Party',\n",
       " 'The Housemaid,’ Twisted Love and Angry Ghosts in Vietna',\n",
       " 'Forever My Girl,’ a Romance Resumes After a Long Brea',\n",
       " 'Kangaroo: A Love-Hate Story’ Exposes a Wildlife Massacr',\n",
       " 'Lover for a Day',\n",
       " 'Youth,’ the People’s Dance Troupe, in Love and Wa',\n",
       " 'Killing for Love’ Revisits a Virginia Murder Cas',\n",
       " 'The Shape of Water’ Is Altogether Wonderfu',\n",
       " 'Love Beats Rhymes,’ a Hip-Hop Artist Transformed by Poetr',\n",
       " 'Cuba and the Cameraman’ Lavishes Love on a Country … and Castr',\n",
       " 'On the Beach at Night Alone’ Zooms in on a Love Affai',\n",
       " 'Thelma,’ a Woman in Love Can Burn Down the Worl',\n",
       " 'Hello Again,’ a Movie Musical Ode to Love and Lust Over Decade',\n",
       " 'It Happened in L.A.,’ All That Questing After Lov',\n",
       " 'God’s Own Country',\n",
       " 'The Mountain Between Us',\n",
       " 'Dina,’ a Differently Abled Love Stor',\n",
       " 'In Search of Fellini',\n",
       " 'Woodpeckers,’ a Tale of Love and Agonizing Penal Confinemen',\n",
       " 'I Do ... Until I Don’t,’ Love and Loathing in Florid',\n",
       " 'Tales of an Immoral Couple’: Love Means Having to Grow U',\n",
       " 'After Love’ and Regretting Every Momen',\n",
       " 'The Last Face',\n",
       " 'Women Who Kill,’ and May Be in Love With On',\n",
       " 'False Confessions,’ the Play’s Not Quite the Thin',\n",
       " 'Review: Those Movies, Himself — Bertrand Tavernier’s Tour of French Cinem',\n",
       " 'The Big Sick,’ Comedy Is Hard, Love Harde',\n",
       " 'Lost in Paris',\n",
       " 'Vincent N Roxxy,’ Love Is in the Air, N So Is Fea',\n",
       " 'Everything, Everything’ Pits Love Against Diseas',\n",
       " 'Hounds of Love’ Is Tense and Deadly Down Unde',\n",
       " 'Harold and Lillian’ Introduces a Hollywood Power Coupl',\n",
       " 'The Happiest Day in the Life of Olli Maki,’ Love and Life on the Rope',\n",
       " 'The Promise’ Finds a Love Triangle in Constantinopl',\n",
       " 'Frantz,’ a Mysterious Frenchman and the Wounds of Wa',\n",
       " 'The Other Half',\n",
       " 'The Ottoman Lieutenant',\n",
       " 'Love & Taxes',\n",
       " 'Everybody Loves Somebody,’ a Rom-Com With Bit',\n",
       " 'Kedi,’ Rekindling a ‘Love of Life']"
      ]
     },
     "execution_count": 10,
     "metadata": {},
     "output_type": "execute_result"
    }
   ],
   "source": [
    "reviews_df = pd.read_json('reviews.json')\n",
    "titles = reviews_df[\"title\"].to_list()\n",
    "print(len(titles))\n",
    "titles"
   ]
  },
  {
   "cell_type": "code",
   "execution_count": 11,
   "metadata": {},
   "outputs": [
    {
     "data": {
      "text/plain": [
       "10"
      ]
     },
     "execution_count": 11,
     "metadata": {},
     "output_type": "execute_result"
    }
   ],
   "source": [
    "divvied_titles = [titles[x:x+20]for x in range(0,len(titles), 20)]\n",
    "len(divvied_titles)"
   ]
  },
  {
   "cell_type": "code",
   "execution_count": 12,
   "metadata": {},
   "outputs": [],
   "source": [
    "tmdb_key_string = \"&api_key=\" + tmdb_api_key\n",
    "\n",
    "def get_details(movie_id, request_counter):\n",
    "    if request_counter % 50 == 0:\n",
    "        time.sleep(1)\n",
    "    details_url = f\"https://api.themoviedb.org/3/movie/{movie_id}?api_key={tmdb_api_key}\"\n",
    "    request_counter += 1\n",
    "    try:\n",
    "        resp = requests.get(details_url)\n",
    "        return resp.json(), request_counter\n",
    "    except:\n",
    "        print(f\"Error getting details \\\"{movie_id}\\\"\")\n",
    "        return None, request_counter\n",
    "    \n",
    "\n",
    "def get_movie(title, request_counter):\n",
    "    print(title)\n",
    "    if request_counter % 50 == 0:\n",
    "        time.sleep(1)\n",
    "    url = \"https://api.themoviedb.org/3/search/movie?query=\"\n",
    "    request_counter += 1\n",
    "    mdb_url = f\"{url}{urllib.parse.quote_plus(t)}{tmdb_key_string}\"\n",
    "    try:\n",
    "        resp = requests.get(mdb_url, timeout=10)\n",
    "        return resp.json(), request_counter\n",
    "    except:\n",
    "        print(f\"Error getting movie \\\"{title}\\\"\")\n",
    "        return None, request_counter\n",
    "\n",
    "def get_movie_id(movie_json):\n",
    "    try:\n",
    "        return movie_json[\"results\"][0][\"id\"]\n",
    "    except:\n",
    "        print(f\"Error getting movie id\")\n",
    "\n",
    "def format_details(resp_json):\n",
    "    try:\n",
    "        genre = [x[\"name\"] for x in resp_json[\"genres\"]]\n",
    "        spoken_languages = [x[\"english_name\"] for x in resp_json[\"spoken_languages\"]]\n",
    "        production_countries = [x[\"name\"] for x in resp_json[\"production_countries\"]]\n",
    "\n",
    "        return {\n",
    "            \"title\": resp_json.get(\"title\", None),\n",
    "            \"original_title\": resp_json.get(\"original_title\", None),\n",
    "            \"budget\": resp_json.get(\"budget\", None),\n",
    "            \"genre\": genre,\n",
    "            \"language\": resp_json.get(\"language\", None),\n",
    "            # NOTE: this needs to be changed to det_resp.get(\"original_language\", None)\n",
    "            \"spoken_languages\": spoken_languages,\n",
    "            \"homepage\": resp_json.get(\"homepage\", None),\n",
    "            \"overview\": resp_json.get(\"overview\", None),\n",
    "            \"popularity\": resp_json.get(\"popularity\", None),\n",
    "            \"runtime\": resp_json.get(\"runtime\", None),\n",
    "            \"revenue\": resp_json.get(\"revenue\", None),\n",
    "            \"release_date\": resp_json.get(\"release_date\", None),\n",
    "            \"vote_average\": resp_json.get(\"vote_average\", None),\n",
    "            \"vote_count\": resp_json.get(\"vote_count\", None),\n",
    "            \"production_countries\": production_countries,\n",
    "        }\n",
    "    except:\n",
    "        print(\"Error formatting details\")"
   ]
  },
  {
   "cell_type": "code",
   "execution_count": 14,
   "metadata": {},
   "outputs": [],
   "source": [
    "tmdb_movies_list = []\n",
    "request_counter = 1"
   ]
  },
  {
   "cell_type": "code",
   "execution_count": 15,
   "metadata": {},
   "outputs": [
    {
     "name": "stdout",
     "output_type": "stream",
     "text": [
      "The Attachment Diaries\n",
      "What’s Love Got to Do With It?’ Probably a Lo\n",
      "Error getting movie id\n",
      "Error formatting details\n",
      "You Can Live Forever\n",
      "A Tourist’s Guide to Love\n",
      "Other People’s Children\n",
      "One True Loves\n",
      "The Lost Weekend: A Love Story\n",
      "A Thousand and One\n",
      "Your Place or Mine\n",
      "Love in the Time of Fentanyl\n",
      "Pamela, a Love Story\n",
      "In From the Side\n",
      "After Love\n",
      "Alcarràs\n",
      "Nelly & Nadine\n",
      "Lady Chatterley’s Lover\n",
      "The Sound of Christmas\n",
      "The Inspection\n",
      "Bones and All\n",
      "My Policeman\n"
     ]
    }
   ],
   "source": [
    "for t in divvied_titles[0]:\n",
    "    movie, request_counter = get_movie(t, request_counter)\n",
    "    movie_id = get_movie_id(movie)\n",
    "    details, request_counter = get_details(movie_id, request_counter)\n",
    "    details_dict = format_details(details)\n",
    "    tmdb_movies_list.append(details_dict)"
   ]
  },
  {
   "cell_type": "code",
   "execution_count": 17,
   "metadata": {},
   "outputs": [
    {
     "data": {
      "text/plain": [
       "20"
      ]
     },
     "execution_count": 17,
     "metadata": {},
     "output_type": "execute_result"
    }
   ],
   "source": [
    "len(tmdb_movies_list)"
   ]
  },
  {
   "cell_type": "code",
   "execution_count": 18,
   "metadata": {},
   "outputs": [
    {
     "name": "stdout",
     "output_type": "stream",
     "text": [
      "About Fate\n",
      "Waiting for Bojangles\n",
      "I Love My Dad\n",
      "A Love Song\n",
      "Alone Together\n",
      "Art of Love\n",
      "The Wheel\n",
      "Thor: Love and Thunder\n",
      "Both Sides of the Blade\n",
      "Fire of Love\n",
      "Love & Gelato\n",
      "Stay Prayed Up\n",
      "Benediction\n",
      "Dinner in America\n",
      "In a New York Minute\n",
      "Anaïs in Love\n",
      "I Love America\n",
      "See You Then\n",
      "La Mami\n",
      "Love After Love\n"
     ]
    }
   ],
   "source": [
    "for t in divvied_titles[1]:\n",
    "    movie, request_counter = get_movie(t, request_counter)\n",
    "    movie_id = get_movie_id(movie)\n",
    "    details, request_counter = get_details(movie_id, request_counter)\n",
    "    details_dict = format_details(details)\n",
    "    tmdb_movies_list.append(details_dict)"
   ]
  },
  {
   "cell_type": "code",
   "execution_count": 19,
   "metadata": {},
   "outputs": [
    {
     "data": {
      "text/plain": [
       "40"
      ]
     },
     "execution_count": 19,
     "metadata": {},
     "output_type": "execute_result"
    }
   ],
   "source": [
    "len(tmdb_movies_list)"
   ]
  },
  {
   "cell_type": "code",
   "execution_count": 20,
   "metadata": {},
   "outputs": [
    {
     "name": "stdout",
     "output_type": "stream",
     "text": [
      "Deep Water\n",
      "Lucy and Desi\n",
      "Cyrano\n",
      "The In Between\n",
      "Book of Love\n",
      "Lingui, the Sacred Bonds\n",
      "The Pink Cloud\n",
      "A Journal for Jordan\n",
      "West Side Story\n",
      "Aulcie\n",
      "Error getting movie id\n",
      "Error formatting details\n",
      "Love Is Love Is Love\n",
      "Love Hard\n",
      "Bergman Island\n",
      "Hard Luck Love Song\n",
      "South of Heaven\n",
      "Wife of a Spy\n",
      "Happier Than Ever\n",
      "Together\n",
      "Annette\n",
      "Resort to Love\n"
     ]
    }
   ],
   "source": [
    "for t in divvied_titles[2]:\n",
    "    movie, request_counter = get_movie(t, request_counter)\n",
    "    movie_id = get_movie_id(movie)\n",
    "    details, request_counter = get_details(movie_id, request_counter)\n",
    "    details_dict = format_details(details)\n",
    "    tmdb_movies_list.append(details_dict)"
   ]
  },
  {
   "cell_type": "code",
   "execution_count": 21,
   "metadata": {},
   "outputs": [
    {
     "data": {
      "text/plain": [
       "60"
      ]
     },
     "execution_count": 21,
     "metadata": {},
     "output_type": "execute_result"
    }
   ],
   "source": [
    "len(tmdb_movies_list)"
   ]
  },
  {
   "cell_type": "code",
   "execution_count": 22,
   "metadata": {},
   "outputs": [
    {
     "name": "stdout",
     "output_type": "stream",
     "text": [
      "Woodstock 99: Peace, Love and Rage\n",
      "Casanova, Last Love\n",
      "Running Against the Wind\n",
      "Asia\n",
      "Undine\n",
      "This Town\n",
      "Tu Me Manques\n",
      "Monday\n",
      "Ride or Die\n",
      "Future People\n",
      "Luz\n",
      "Happily\n",
      "This Is the Life\n",
      "To All the Boys: Always and Forever\n",
      "Young Hearts\n",
      "Little Fish\n",
      "Two of Us\n",
      "Atlantis\n",
      "Preparations to Be Together\n",
      "Your Name Engraved Herein\n"
     ]
    }
   ],
   "source": [
    "for t in divvied_titles[3]:\n",
    "    movie, request_counter = get_movie(t, request_counter)\n",
    "    movie_id = get_movie_id(movie)\n",
    "    details, request_counter = get_details(movie_id, request_counter)\n",
    "    details_dict = format_details(details)\n",
    "    tmdb_movies_list.append(details_dict)"
   ]
  },
  {
   "cell_type": "code",
   "execution_count": 23,
   "metadata": {},
   "outputs": [
    {
     "data": {
      "text/plain": [
       "80"
      ]
     },
     "execution_count": 23,
     "metadata": {},
     "output_type": "execute_result"
    }
   ],
   "source": [
    "len(tmdb_movies_list)"
   ]
  },
  {
   "cell_type": "code",
   "execution_count": 24,
   "metadata": {},
   "outputs": [
    {
     "name": "stdout",
     "output_type": "stream",
     "text": [
      "Sylvie’s Love\n",
      "Ariana Grande: Excuse Me, I Love You\n",
      "Museum Town\n",
      "Wild Mountain Thyme\n",
      "My Psychedelic Love Story\n",
      "69: The Saga of Danny Hernandez\n",
      "Ammonite\n",
      "Love and Monsters\n",
      "Dick Johnson Is Dead\n",
      "Love, Guaranteed\n",
      "Feel the Beat\n",
      "Babyteeth\n",
      "Spelling the Dream\n",
      "A Secret Love\n",
      "Love Wedding Repeat\n",
      "Almost Love\n",
      "Hope Gap\n",
      "All the Bright Places\n",
      "The Photograph\n",
      "You Go to My Head\n"
     ]
    }
   ],
   "source": [
    "for t in divvied_titles[4]:\n",
    "    movie, request_counter = get_movie(t, request_counter)\n",
    "    movie_id = get_movie_id(movie)\n",
    "    details, request_counter = get_details(movie_id, request_counter)\n",
    "    details_dict = format_details(details)\n",
    "    tmdb_movies_list.append(details_dict)"
   ]
  },
  {
   "cell_type": "code",
   "execution_count": 25,
   "metadata": {},
   "outputs": [
    {
     "data": {
      "text/plain": [
       "100"
      ]
     },
     "execution_count": 25,
     "metadata": {},
     "output_type": "execute_result"
    }
   ],
   "source": [
    "len(tmdb_movies_list)"
   ]
  },
  {
   "cell_type": "code",
   "execution_count": 26,
   "metadata": {},
   "outputs": [
    {
     "name": "stdout",
     "output_type": "stream",
     "text": [
      "Ordinary Love\n",
      "To All the Boys: P.S. I Still Love You\n",
      "The Woman Who Loves Giraffes\n",
      "Queen & Slim\n",
      "Marriage Story\n",
      "Cyrano, My Love\n",
      "Pretenders\n",
      "First Love\n",
      "Loro\n",
      "Falling Inn Love\n",
      "Hot Air\n",
      "Love, Antosha\n",
      "Leto\n",
      "The Tomorrow Man\n",
      "Asako I & II\n",
      "The Sun Is Also a Star\n",
      "Shéhérazade\n",
      "Long Shot\n",
      "Clara\n",
      "Kalank\n"
     ]
    }
   ],
   "source": [
    "for t in divvied_titles[5]:\n",
    "    movie, request_counter = get_movie(t, request_counter)\n",
    "    movie_id = get_movie_id(movie)\n",
    "    details, request_counter = get_details(movie_id, request_counter)\n",
    "    details_dict = format_details(details)\n",
    "    tmdb_movies_list.append(details_dict)"
   ]
  },
  {
   "cell_type": "code",
   "execution_count": 27,
   "metadata": {},
   "outputs": [
    {
     "data": {
      "text/plain": [
       "120"
      ]
     },
     "execution_count": 27,
     "metadata": {},
     "output_type": "execute_result"
    }
   ],
   "source": [
    "len(tmdb_movies_list)"
   ]
  },
  {
   "cell_type": "code",
   "execution_count": 28,
   "metadata": {},
   "outputs": [
    {
     "name": "stdout",
     "output_type": "stream",
     "text": [
      "Rafiki\n",
      "Diane\n",
      "Five Feet Apart\n",
      "Ash Is Purest White\n",
      "Gloria Bell\n",
      "Black Mother\n",
      "The Hole in the Ground\n",
      "How to Train Your Dragon: The Hidden World\n",
      "A Tuba to Cuba\n",
      "Fighting With My Family\n",
      "Sorry Angel\n",
      "Berlin, I Love You\n",
      "Untogether\n",
      "Cold War\n",
      "If Beale Street Could Talk\n",
      "Asher\n",
      "The Party’s Just Beginning\n",
      "The Great Pretender\n",
      "Sicilian Ghost Story\n",
      "The New Romantic\n"
     ]
    }
   ],
   "source": [
    "for t in divvied_titles[6]:\n",
    "    movie, request_counter = get_movie(t, request_counter)\n",
    "    movie_id = get_movie_id(movie)\n",
    "    details, request_counter = get_details(movie_id, request_counter)\n",
    "    details_dict = format_details(details)\n",
    "    tmdb_movies_list.append(details_dict)"
   ]
  },
  {
   "cell_type": "code",
   "execution_count": 29,
   "metadata": {},
   "outputs": [
    {
     "data": {
      "text/plain": [
       "140"
      ]
     },
     "execution_count": 29,
     "metadata": {},
     "output_type": "execute_result"
    }
   ],
   "source": [
    "len(tmdb_movies_list)"
   ]
  },
  {
   "cell_type": "code",
   "execution_count": 30,
   "metadata": {},
   "outputs": [
    {
     "name": "stdout",
     "output_type": "stream",
     "text": [
      "Pimp\n",
      "In a Relationship\n",
      "They’ll Love Me When I’m Dead’ Documents Orson Welles’s Last Fil\n",
      "Error getting movie id\n",
      "Error formatting details\n",
      "Burning,’ Love Ignites a Divided Worl\n",
      "Error getting movie id\n",
      "Error formatting details\n",
      "After Everything,’ a Young Love Blooms in Crisi\n",
      "Error getting movie id\n",
      "Error formatting details\n",
      "Quincy’ Captures a Lifelong Love Affair With Musi\n",
      "Error getting movie id\n",
      "Error formatting details\n",
      "Love, Gilda,’ a Portrait of a Brief and Brilliant Caree\n",
      "Error getting movie id\n",
      "Error formatting details\n",
      "Tea With the Dames,’ Four Legends Dish on Acting and Lov\n",
      "Error getting movie id\n",
      "Error formatting details\n",
      "Bel Canto,’ Music Is the Food of Love and Rebellio\n",
      "Error getting movie id\n",
      "Error formatting details\n",
      "The Citizen,’ an Immigrant Picks a Bad Time to Fall in Lov\n",
      "Error getting movie id\n",
      "Error formatting details\n",
      "Love, Cecil,’ an Aesthete Ahead of His Tim\n",
      "Error getting movie id\n",
      "Error formatting details\n",
      "How to Talk to Girls at Parties\n",
      "Rogers Park,’ Life and Love in a Chicago Neighborhoo\n",
      "Error getting movie id\n",
      "Error formatting details\n",
      "Love & Bananas,’ Uncovering the Plight of the Asian Elephan\n",
      "Error getting movie id\n",
      "Error formatting details\n",
      "Godard Mon Amour\n",
      "Submergence,’ a Love Story Sunk by Geopolitic\n",
      "Error getting movie id\n",
      "Error formatting details\n",
      "Love After Love,’ an Unflinching Look at Extended Grie\n",
      "Error getting movie id\n",
      "Error formatting details\n",
      "Outside In\n",
      "Love, Simon,’ a Glossy Teen Romance, the Hero Has a Secre\n",
      "Error getting movie id\n",
      "Error formatting details\n",
      "Keep the Change,’ Two People With Autism Find Lov\n",
      "Error getting movie id\n",
      "Error formatting details\n"
     ]
    }
   ],
   "source": [
    "for t in divvied_titles[7]:\n",
    "    movie, request_counter = get_movie(t, request_counter)\n",
    "    movie_id = get_movie_id(movie)\n",
    "    details, request_counter = get_details(movie_id, request_counter)\n",
    "    details_dict = format_details(details)\n",
    "    tmdb_movies_list.append(details_dict)"
   ]
  },
  {
   "cell_type": "code",
   "execution_count": 31,
   "metadata": {},
   "outputs": [
    {
     "data": {
      "text/plain": [
       "160"
      ]
     },
     "execution_count": 31,
     "metadata": {},
     "output_type": "execute_result"
    }
   ],
   "source": [
    "len(tmdb_movies_list)"
   ]
  },
  {
   "cell_type": "code",
   "execution_count": 32,
   "metadata": {},
   "outputs": [
    {
     "name": "stdout",
     "output_type": "stream",
     "text": [
      "The Party\n",
      "The Housemaid,’ Twisted Love and Angry Ghosts in Vietna\n",
      "Error getting movie id\n",
      "Error formatting details\n",
      "Forever My Girl,’ a Romance Resumes After a Long Brea\n",
      "Error getting movie id\n",
      "Error formatting details\n",
      "Kangaroo: A Love-Hate Story’ Exposes a Wildlife Massacr\n",
      "Error getting movie id\n",
      "Error formatting details\n",
      "Lover for a Day\n",
      "Youth,’ the People’s Dance Troupe, in Love and Wa\n",
      "Error getting movie id\n",
      "Error formatting details\n",
      "Killing for Love’ Revisits a Virginia Murder Cas\n",
      "Error getting movie id\n",
      "Error formatting details\n",
      "The Shape of Water’ Is Altogether Wonderfu\n",
      "Error getting movie id\n",
      "Error formatting details\n",
      "Love Beats Rhymes,’ a Hip-Hop Artist Transformed by Poetr\n",
      "Error getting movie id\n",
      "Error formatting details\n",
      "Cuba and the Cameraman’ Lavishes Love on a Country … and Castr\n",
      "Error getting movie id\n",
      "Error formatting details\n",
      "On the Beach at Night Alone’ Zooms in on a Love Affai\n",
      "Error getting movie id\n",
      "Error formatting details\n",
      "Thelma,’ a Woman in Love Can Burn Down the Worl\n",
      "Error getting movie id\n",
      "Error formatting details\n",
      "Hello Again,’ a Movie Musical Ode to Love and Lust Over Decade\n",
      "Error getting movie id\n",
      "Error formatting details\n",
      "It Happened in L.A.,’ All That Questing After Lov\n",
      "Error getting movie id\n",
      "Error formatting details\n",
      "God’s Own Country\n",
      "The Mountain Between Us\n",
      "Dina,’ a Differently Abled Love Stor\n",
      "Error getting movie id\n",
      "Error formatting details\n",
      "In Search of Fellini\n",
      "Woodpeckers,’ a Tale of Love and Agonizing Penal Confinemen\n",
      "Error getting movie id\n",
      "Error formatting details\n",
      "I Do ... Until I Don’t,’ Love and Loathing in Florid\n",
      "Error getting movie id\n",
      "Error formatting details\n"
     ]
    }
   ],
   "source": [
    "for t in divvied_titles[8]:\n",
    "    movie, request_counter = get_movie(t, request_counter)\n",
    "    movie_id = get_movie_id(movie)\n",
    "    details, request_counter = get_details(movie_id, request_counter)\n",
    "    details_dict = format_details(details)\n",
    "    tmdb_movies_list.append(details_dict)"
   ]
  },
  {
   "cell_type": "code",
   "execution_count": 33,
   "metadata": {},
   "outputs": [
    {
     "data": {
      "text/plain": [
       "180"
      ]
     },
     "execution_count": 33,
     "metadata": {},
     "output_type": "execute_result"
    }
   ],
   "source": [
    "len(tmdb_movies_list)"
   ]
  },
  {
   "cell_type": "code",
   "execution_count": 34,
   "metadata": {},
   "outputs": [
    {
     "name": "stdout",
     "output_type": "stream",
     "text": [
      "Tales of an Immoral Couple’: Love Means Having to Grow U\n",
      "Error getting movie id\n",
      "Error formatting details\n",
      "After Love’ and Regretting Every Momen\n",
      "Error getting movie id\n",
      "Error formatting details\n",
      "The Last Face\n",
      "Women Who Kill,’ and May Be in Love With On\n",
      "Error getting movie id\n",
      "Error formatting details\n",
      "False Confessions,’ the Play’s Not Quite the Thin\n",
      "Error getting movie id\n",
      "Error formatting details\n",
      "Review: Those Movies, Himself — Bertrand Tavernier’s Tour of French Cinem\n",
      "Error getting movie id\n",
      "Error formatting details\n",
      "The Big Sick,’ Comedy Is Hard, Love Harde\n",
      "Error getting movie id\n",
      "Error formatting details\n",
      "Lost in Paris\n",
      "Vincent N Roxxy,’ Love Is in the Air, N So Is Fea\n",
      "Error getting movie id\n",
      "Error formatting details\n",
      "Everything, Everything’ Pits Love Against Diseas\n",
      "Error getting movie id\n",
      "Error formatting details\n",
      "Hounds of Love’ Is Tense and Deadly Down Unde\n",
      "Error getting movie id\n",
      "Error formatting details\n",
      "Harold and Lillian’ Introduces a Hollywood Power Coupl\n",
      "Error getting movie id\n",
      "Error formatting details\n",
      "The Happiest Day in the Life of Olli Maki,’ Love and Life on the Rope\n",
      "Error getting movie id\n",
      "Error formatting details\n",
      "The Promise’ Finds a Love Triangle in Constantinopl\n",
      "Error getting movie id\n",
      "Error formatting details\n",
      "Frantz,’ a Mysterious Frenchman and the Wounds of Wa\n",
      "Error getting movie id\n",
      "Error formatting details\n",
      "The Other Half\n",
      "The Ottoman Lieutenant\n",
      "Love & Taxes\n",
      "Everybody Loves Somebody,’ a Rom-Com With Bit\n",
      "Error getting movie id\n",
      "Error formatting details\n",
      "Kedi,’ Rekindling a ‘Love of Life\n",
      "Error getting movie id\n",
      "Error formatting details\n"
     ]
    }
   ],
   "source": [
    "for t in divvied_titles[9]:\n",
    "    movie, request_counter = get_movie(t, request_counter)\n",
    "    movie_id = get_movie_id(movie)\n",
    "    details, request_counter = get_details(movie_id, request_counter)\n",
    "    details_dict = format_details(details)\n",
    "    tmdb_movies_list.append(details_dict)"
   ]
  },
  {
   "cell_type": "code",
   "execution_count": 35,
   "metadata": {},
   "outputs": [
    {
     "data": {
      "text/plain": [
       "200"
      ]
     },
     "execution_count": 35,
     "metadata": {},
     "output_type": "execute_result"
    }
   ],
   "source": [
    "len(tmdb_movies_list)"
   ]
  },
  {
   "cell_type": "code",
   "execution_count": 46,
   "metadata": {},
   "outputs": [
    {
     "name": "stdout",
     "output_type": "stream",
     "text": [
      "{'title': 'The Attachment Diaries', 'original_title': 'El apego', 'budget': 0, 'genre': ['Drama', 'Mystery', 'Thriller', 'Horror'], 'language': '', 'spoken_languages': ['Spanish'], 'homepage': '', 'overview': 'Argentina, 1970s. A desperate young woman goes to a clinic to have a clandestine abortion. As her pregnancy is already through the fourth month, the doctor refuses. Instead, she proposes to sell the baby to one of her clients and offers to provide shelter in her house until the child is born. Their disturbed personalities will become intertwined in a strange and dangerous relationship.', 'popularity': 0.6, 'runtime': 102, 'revenue': 0, 'release_date': '2021-10-07', 'vote_average': 4.0, 'vote_count': 2, 'production_countries': ['Argentina']}\n",
      "None\n"
     ]
    },
    {
     "ename": "AttributeError",
     "evalue": "'NoneType' object has no attribute 'items'",
     "output_type": "error",
     "traceback": [
      "\u001b[0;31m---------------------------------------------------------------------------\u001b[0m",
      "\u001b[0;31mAttributeError\u001b[0m                            Traceback (most recent call last)",
      "Cell \u001b[0;32mIn[46], line 3\u001b[0m\n\u001b[1;32m      1\u001b[0m \u001b[38;5;28;01mfor\u001b[39;00m entry \u001b[38;5;129;01min\u001b[39;00m tmdb_movies_list:\n\u001b[1;32m      2\u001b[0m     \u001b[38;5;28mprint\u001b[39m(entry)\n\u001b[0;32m----> 3\u001b[0m     \u001b[38;5;28;01mfor\u001b[39;00m key, value \u001b[38;5;129;01min\u001b[39;00m \u001b[43mentry\u001b[49m\u001b[38;5;241;43m.\u001b[39;49m\u001b[43mitems\u001b[49m():\n\u001b[1;32m      4\u001b[0m         \u001b[38;5;28;01mif\u001b[39;00m value \u001b[38;5;129;01mis\u001b[39;00m \u001b[38;5;28;01mNone\u001b[39;00m:\n\u001b[1;32m      5\u001b[0m             entry[key] \u001b[38;5;241m=\u001b[39m \u001b[38;5;124m'\u001b[39m\u001b[38;5;124m'\u001b[39m\n",
      "\u001b[0;31mAttributeError\u001b[0m: 'NoneType' object has no attribute 'items'"
     ]
    }
   ],
   "source": [
    "for entry in tmdb_movies_list:\n",
    "    print(entry)\n",
    "    for key, value in entry.items():\n",
    "        if value is None:\n",
    "            entry[key] = ''"
   ]
  },
  {
   "cell_type": "code",
   "execution_count": 37,
   "metadata": {},
   "outputs": [],
   "source": [
    "json_string = json.dumps(tmdb_movies_list)\n",
    "# tmdb_movies_list.to_json('movies.json')\n",
    "with open('movies.json', 'w') as f:\n",
    "    f.write(json_string)"
   ]
  },
  {
   "cell_type": "code",
   "execution_count": 41,
   "metadata": {},
   "outputs": [
    {
     "data": {
      "text/plain": [
       "{'title': 'The Attachment Diaries',\n",
       " 'original_title': 'El apego',\n",
       " 'budget': 0,\n",
       " 'genre': ['Drama', 'Mystery', 'Thriller', 'Horror'],\n",
       " 'language': None,\n",
       " 'spoken_languages': ['Spanish'],\n",
       " 'homepage': '',\n",
       " 'overview': 'Argentina, 1970s. A desperate young woman goes to a clinic to have a clandestine abortion. As her pregnancy is already through the fourth month, the doctor refuses. Instead, she proposes to sell the baby to one of her clients and offers to provide shelter in her house until the child is born. Their disturbed personalities will become intertwined in a strange and dangerous relationship.',\n",
       " 'popularity': 0.6,\n",
       " 'runtime': 102,\n",
       " 'revenue': 0,\n",
       " 'release_date': '2021-10-07',\n",
       " 'vote_average': 4.0,\n",
       " 'vote_count': 2,\n",
       " 'production_countries': ['Argentina']}"
      ]
     },
     "execution_count": 41,
     "metadata": {},
     "output_type": "execute_result"
    }
   ],
   "source": [
    "test = tmdb_movies_list[0]\n",
    "test\n",
    "# df = pd.DataFrame(tmdb_movies_list)\n",
    "# df.head()\n",
    "\n",
    "# # Write the DataFrame to a JSON file\n",
    "# df.to_json('movie_list.json', orient='records')"
   ]
  },
  {
   "cell_type": "code",
   "execution_count": null,
   "metadata": {},
   "outputs": [],
   "source": []
  }
 ],
 "metadata": {
  "kernelspec": {
   "display_name": "dev",
   "language": "python",
   "name": "python3"
  },
  "language_info": {
   "codemirror_mode": {
    "name": "ipython",
    "version": 3
   },
   "file_extension": ".py",
   "mimetype": "text/x-python",
   "name": "python",
   "nbconvert_exporter": "python",
   "pygments_lexer": "ipython3",
   "version": "3.10.13"
  }
 },
 "nbformat": 4,
 "nbformat_minor": 2
}
